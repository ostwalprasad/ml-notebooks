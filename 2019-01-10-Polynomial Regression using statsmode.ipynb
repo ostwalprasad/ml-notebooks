{
 "cells": [
  {
   "cell_type": "markdown",
   "metadata": {
    "colab_type": "text",
    "id": "ae3uhyMvoSXX"
   },
   "source": [
    "# Polynomial Regression using statsmodel\n",
    "\n",
    "I've been using sci-kit learn for a while, but it is heavily abstracted for getting quick results for machine learning. Particularly, sklearn doesnt provide statistical inference of model parameters such as 'standard errors'. Statsmodel package is rich with descriptive statistics and provides number of models.\n",
    "\n",
    "Let's implement Polynomial Regression using statsmodel\n",
    "\n",
    "### Import basic packages\n"
   ]
  },
  {
   "cell_type": "code",
   "execution_count": 1,
   "metadata": {
    "colab": {},
    "colab_type": "code",
    "id": "W6pz3RpZofQG"
   },
   "outputs": [],
   "source": [
    "import numpy as np\n",
    "import matplotlib.pyplot as plt\n",
    "import pandas as pd"
   ]
  },
  {
   "cell_type": "markdown",
   "metadata": {
    "colab_type": "text",
    "id": "1ZYi8wULxRGb"
   },
   "source": [
    "### Create artificial data\n",
    "\n"
   ]
  },
  {
   "cell_type": "code",
   "execution_count": 2,
   "metadata": {
    "colab": {
     "base_uri": "https://localhost:8080/",
     "height": 398
    },
    "colab_type": "code",
    "id": "NHNbDDoaxgEq",
    "outputId": "3e2a32ff-6061-46d4-c466-fccb4e73f952"
   },
   "outputs": [
    {
     "name": "stdout",
     "output_type": "stream",
     "text": [
      "(50, 1)\n",
      "(50, 1)\n"
     ]
    },
    {
     "data": {
      "text/plain": [
       "<matplotlib.collections.PathCollection at 0x28ff0ef5550>"
      ]
     },
     "execution_count": 2,
     "metadata": {},
     "output_type": "execute_result"
    },
    {
     "data": {
      "image/png": "[encoded data removed]",
      "text/plain": [
       "<Figure size 432x288 with 1 Axes>"
      ]
     },
     "metadata": {
      "needs_background": "light"
     },
     "output_type": "display_data"
    }
   ],
   "source": [
    "rng = np.random.RandomState(1)\n",
    "x = 8 * rng.rand(50)\n",
    "y = np.sin(x) + 0.1 * rng.randn(50)\n",
    "\n",
    "#Create single dimension\n",
    "x= x[:,np.newaxis]\n",
    "y= y[:,np.newaxis]\n",
    "\n",
    "inds = x.ravel().argsort()  # Sort x values and get index    \n",
    "x = x.ravel()[inds].reshape(-1,1)\n",
    "y = y[inds] #Sort y according to x sorted index\n",
    "\n",
    "print(x.shape)\n",
    "print(y.shape)\n",
    "\n",
    "#Plot\n",
    "plt.scatter(x,y)"
   ]
  },
  {
   "cell_type": "markdown",
   "metadata": {
    "colab_type": "text",
    "id": "TDCzYnGK-46F"
   },
   "source": [
    "### Running simple linear Regression first using statsmodel OLS\n",
    "\n",
    "Although simple linear line won't fit our $x$ data still let's see how it performs.\n",
    "\n",
    "$$ y  = b_0+ b_1x $$\n",
    "\n",
    "where $b_0$ is bias and $ b_1$ is weight for simple Linear Regression equation.\n",
    "\n",
    "Statsmodel provides [OLS model](https://www.statsmodels.org/dev/generated/statsmodels.regression.linear_model.OLS.html) (ordinary Least Sqaures) for simple linear regression.\n"
   ]
  },
  {
   "cell_type": "code",
   "execution_count": 3,
   "metadata": {
    "colab": {
     "base_uri": "https://localhost:8080/",
     "height": 364
    },
    "colab_type": "code",
    "id": "ZHKQE7N9_Bg-",
    "outputId": "c4a59e74-3481-4ef4-cd27-d886de9e053d"
   },
   "outputs": [
    {
     "data": {
      "text/plain": [
       "[<matplotlib.lines.Line2D at 0x28ff0f50e48>]"
      ]
     },
     "execution_count": 3,
     "metadata": {},
     "output_type": "execute_result"
    },
    {
     "data": {
      "image/png": "[encoded data removed]",
      "text/plain": [
       "<Figure size 432x288 with 1 Axes>"
      ]
     },
     "metadata": {
      "needs_background": "light"
     },
     "output_type": "display_data"
    }
   ],
   "source": [
    "import statsmodels.api as sm\n",
    "\n",
    "model = sm.OLS(y, x).fit()\n",
    "ypred = model.predict(x) \n",
    "\n",
    "plt.scatter(x,y)\n",
    "plt.plot(x,ypred)"
   ]
  },
  {
   "cell_type": "markdown",
   "metadata": {
    "colab_type": "text",
    "id": "H9iv3yyqx0pR"
   },
   "source": [
    "### Generate Polynomials\n",
    "\n",
    "Clearly it did not fit because input is roughly a sin wave with noise, so at least 3rd degree polynomials are required.\n",
    "\n",
    "\n",
    "\n",
    "#### Polynomial Regression for 3 degrees , \n",
    "\n",
    "$$ y = b_0 + b_1x + b_2x^2 + b_3x^3 $$\n",
    "where $b_n$ are biases for $x$ polynomial. \n",
    "\n",
    "This is still a linear model—the linearity refers to the fact that the coefficients $b_n$ never multiply or divide each other. \n",
    "\n",
    "Although we are using statsmodel for regression, we'll use [sklearn for generating Polynomial features](https://scikit-learn.org/stable/modules/generated/sklearn.preprocessing.PolynomialFeatures.html) as it provides simple function to generate polynomials\n"
   ]
  },
  {
   "cell_type": "code",
   "execution_count": 4,
   "metadata": {
    "colab": {
     "base_uri": "https://localhost:8080/",
     "height": 34
    },
    "colab_type": "code",
    "id": "fwNDG2DOxxgm",
    "outputId": "29a5e513-39e2-4494-b37c-f5b914bd1fff"
   },
   "outputs": [
    {
     "data": {
      "text/plain": [
       "(50, 4)"
      ]
     },
     "execution_count": 4,
     "metadata": {},
     "output_type": "execute_result"
    }
   ],
   "source": [
    "from sklearn.preprocessing import PolynomialFeatures\n",
    "polynomial_features= PolynomialFeatures(degree=3)\n",
    "xp = polynomial_features.fit_transform(x)\n",
    "xp.shape"
   ]
  },
  {
   "cell_type": "markdown",
   "metadata": {
    "colab_type": "text",
    "id": "byR1uMGw74wp"
   },
   "source": [
    "### Running regression on polynomials using statsmodel OLS \n"
   ]
  },
  {
   "cell_type": "code",
   "execution_count": 5,
   "metadata": {
    "colab": {
     "base_uri": "https://localhost:8080/",
     "height": 34
    },
    "colab_type": "code",
    "id": "Bl6rA3xw6JeF",
    "outputId": "6f5535b1-c470-4360-9050-08d47b78df53"
   },
   "outputs": [
    {
     "data": {
      "text/plain": [
       "(50,)"
      ]
     },
     "execution_count": 5,
     "metadata": {},
     "output_type": "execute_result"
    }
   ],
   "source": [
    "import statsmodels.api as sm\n",
    "\n",
    "model = sm.OLS(y, xp).fit()\n",
    "ypred = model.predict(xp) \n",
    "\n",
    "ypred.shape"
   ]
  },
  {
   "cell_type": "code",
   "execution_count": 6,
   "metadata": {
    "colab": {
     "base_uri": "https://localhost:8080/",
     "height": 364
    },
    "colab_type": "code",
    "id": "-dsBBHyV8G-o",
    "outputId": "b9d2214a-def0-4531-a839-abb262c339de"
   },
   "outputs": [
    {
     "data": {
      "text/plain": [
       "[<matplotlib.lines.Line2D at 0x28ff3e6ba58>]"
      ]
     },
     "execution_count": 6,
     "metadata": {},
     "output_type": "execute_result"
    },
    {
     "data": {
      "image/png": "[encoded data removed]",
      "text/plain": [
       "<Figure size 432x288 with 1 Axes>"
      ]
     },
     "metadata": {
      "needs_background": "light"
     },
     "output_type": "display_data"
    }
   ],
   "source": [
    "plt.scatter(x,y)\n",
    "plt.plot(x,ypred)"
   ]
  },
  {
   "cell_type": "markdown",
   "metadata": {
    "colab_type": "text",
    "id": "mLMqhchF9L33"
   },
   "source": [
    "### Looks like even degree 3 polynomial isn't fitting well to our data\n",
    "\n",
    "Let's use 5 degree polynomial."
   ]
  },
  {
   "cell_type": "code",
   "execution_count": 7,
   "metadata": {
    "colab": {
     "base_uri": "https://localhost:8080/",
     "height": 364
    },
    "colab_type": "code",
    "id": "Oojyhw_A8gW6",
    "outputId": "b1c10b62-ab87-46ce-975a-ead74e5f8ee1"
   },
   "outputs": [
    {
     "data": {
      "text/plain": [
       "[<matplotlib.lines.Line2D at 0x28ff3e6bc18>]"
      ]
     },
     "execution_count": 7,
     "metadata": {},
     "output_type": "execute_result"
    },
    {
     "data": {
      "image/png": "[encoded data removed]",
      "text/plain": [
       "<Figure size 432x288 with 1 Axes>"
      ]
     },
     "metadata": {
      "needs_background": "light"
     },
     "output_type": "display_data"
    }
   ],
   "source": [
    "from sklearn.preprocessing import PolynomialFeatures\n",
    "polynomial_features= PolynomialFeatures(degree=5)\n",
    "xp = polynomial_features.fit_transform(x)\n",
    "xp.shape\n",
    "\n",
    "model = sm.OLS(y, xp).fit()\n",
    "ypred = model.predict(xp) \n",
    "\n",
    "plt.scatter(x,y)\n",
    "plt.plot(x,ypred)\n"
   ]
  },
  {
   "cell_type": "markdown",
   "metadata": {
    "colab_type": "text",
    "id": "glXlEWAvHyOX"
   },
   "source": [
    "5 degree polynomial is adequatly fitting data. If we increase more degrees, model will overfit."
   ]
  },
  {
   "cell_type": "markdown",
   "metadata": {
    "colab_type": "text",
    "id": "oj1DPQ86CgI3"
   },
   "source": [
    "### Model Summary\n",
    "\n",
    "As I mentioned earlier, statsmodel provided descriptive statistics of model."
   ]
  },
  {
   "cell_type": "code",
   "execution_count": 8,
   "metadata": {
    "colab": {
     "base_uri": "https://localhost:8080/",
     "height": 460
    },
    "colab_type": "code",
    "id": "VAVkkT6BCu04",
    "outputId": "1604ce19-3e70-45cc-dcbb-6ec249804dbd"
   },
   "outputs": [
    {
     "data": {
      "text/html": [
       "<table class=\"simpletable\">\n",
       "<caption>OLS Regression Results</caption>\n",
       "<tr>\n",
       "  <th>Dep. Variable:</th>            <td>y</td>        <th>  R-squared:         </th> <td>   0.974</td>\n",
       "</tr>\n",
       "<tr>\n",
       "  <th>Model:</th>                   <td>OLS</td>       <th>  Adj. R-squared:    </th> <td>   0.972</td>\n",
       "</tr>\n",
       "<tr>\n",
       "  <th>Method:</th>             <td>Least Squares</td>  <th>  F-statistic:       </th> <td>   336.2</td>\n",
       "</tr>\n",
       "<tr>\n",
       "  <th>Date:</th>             <td>Fri, 05 Apr 2019</td> <th>  Prob (F-statistic):</th> <td>7.19e-34</td>\n",
       "</tr>\n",
       "<tr>\n",
       "  <th>Time:</th>                 <td>11:59:50</td>     <th>  Log-Likelihood:    </th> <td>  44.390</td>\n",
       "</tr>\n",
       "<tr>\n",
       "  <th>No. Observations:</th>      <td>    50</td>      <th>  AIC:               </th> <td>  -76.78</td>\n",
       "</tr>\n",
       "<tr>\n",
       "  <th>Df Residuals:</th>          <td>    44</td>      <th>  BIC:               </th> <td>  -65.31</td>\n",
       "</tr>\n",
       "<tr>\n",
       "  <th>Df Model:</th>              <td>     5</td>      <th>                     </th>     <td> </td>   \n",
       "</tr>\n",
       "<tr>\n",
       "  <th>Covariance Type:</th>      <td>nonrobust</td>    <th>                     </th>     <td> </td>   \n",
       "</tr>\n",
       "</table>\n",
       "<table class=\"simpletable\">\n",
       "<tr>\n",
       "    <td></td>       <th>coef</th>     <th>std err</th>      <th>t</th>      <th>P>|t|</th>  <th>[0.025</th>    <th>0.975]</th>  \n",
       "</tr>\n",
       "<tr>\n",
       "  <th>const</th> <td>   -0.1327</td> <td>    0.070</td> <td>   -1.888</td> <td> 0.066</td> <td>   -0.274</td> <td>    0.009</td>\n",
       "</tr>\n",
       "<tr>\n",
       "  <th>x1</th>    <td>    1.5490</td> <td>    0.184</td> <td>    8.436</td> <td> 0.000</td> <td>    1.179</td> <td>    1.919</td>\n",
       "</tr>\n",
       "<tr>\n",
       "  <th>x2</th>    <td>   -0.4651</td> <td>    0.149</td> <td>   -3.126</td> <td> 0.003</td> <td>   -0.765</td> <td>   -0.165</td>\n",
       "</tr>\n",
       "<tr>\n",
       "  <th>x3</th>    <td>   -0.0921</td> <td>    0.049</td> <td>   -1.877</td> <td> 0.067</td> <td>   -0.191</td> <td>    0.007</td>\n",
       "</tr>\n",
       "<tr>\n",
       "  <th>x4</th>    <td>    0.0359</td> <td>    0.007</td> <td>    5.128</td> <td> 0.000</td> <td>    0.022</td> <td>    0.050</td>\n",
       "</tr>\n",
       "<tr>\n",
       "  <th>x5</th>    <td>   -0.0025</td> <td>    0.000</td> <td>   -6.954</td> <td> 0.000</td> <td>   -0.003</td> <td>   -0.002</td>\n",
       "</tr>\n",
       "</table>\n",
       "<table class=\"simpletable\">\n",
       "<tr>\n",
       "  <th>Omnibus:</th>       <td> 1.186</td> <th>  Durbin-Watson:     </th> <td>   1.315</td>\n",
       "</tr>\n",
       "<tr>\n",
       "  <th>Prob(Omnibus):</th> <td> 0.553</td> <th>  Jarque-Bera (JB):  </th> <td>   1.027</td>\n",
       "</tr>\n",
       "<tr>\n",
       "  <th>Skew:</th>          <td> 0.133</td> <th>  Prob(JB):          </th> <td>   0.598</td>\n",
       "</tr>\n",
       "<tr>\n",
       "  <th>Kurtosis:</th>      <td> 2.351</td> <th>  Cond. No.          </th> <td>1.61e+05</td>\n",
       "</tr>\n",
       "</table><br/><br/>Warnings:<br/>[1] Standard Errors assume that the covariance matrix of the errors is correctly specified.<br/>[2] The condition number is large, 1.61e+05. This might indicate that there are<br/>strong multicollinearity or other numerical problems."
      ],
      "text/plain": [
       "<class 'statsmodels.iolib.summary.Summary'>\n",
       "\"\"\"\n",
       "                            OLS Regression Results                            \n",
       "==============================================================================\n",
       "Dep. Variable:                      y   R-squared:                       0.974\n",
       "Model:                            OLS   Adj. R-squared:                  0.972\n",
       "Method:                 Least Squares   F-statistic:                     336.2\n",
       "Date:                Fri, 05 Apr 2019   Prob (F-statistic):           7.19e-34\n",
       "Time:                        11:59:50   Log-Likelihood:                 44.390\n",
       "No. Observations:                  50   AIC:                            -76.78\n",
       "Df Residuals:                      44   BIC:                            -65.31\n",
       "Df Model:                           5                                         \n",
       "Covariance Type:            nonrobust                                         \n",
       "==============================================================================\n",
       "                 coef    std err          t      P>|t|      [0.025      0.975]\n",
       "------------------------------------------------------------------------------\n",
       "const         -0.1327      0.070     -1.888      0.066      -0.274       0.009\n",
       "x1             1.5490      0.184      8.436      0.000       1.179       1.919\n",
       "x2            -0.4651      0.149     -3.126      0.003      -0.765      -0.165\n",
       "x3            -0.0921      0.049     -1.877      0.067      -0.191       0.007\n",
       "x4             0.0359      0.007      5.128      0.000       0.022       0.050\n",
       "x5            -0.0025      0.000     -6.954      0.000      -0.003      -0.002\n",
       "==============================================================================\n",
       "Omnibus:                        1.186   Durbin-Watson:                   1.315\n",
       "Prob(Omnibus):                  0.553   Jarque-Bera (JB):                1.027\n",
       "Skew:                           0.133   Prob(JB):                        0.598\n",
       "Kurtosis:                       2.351   Cond. No.                     1.61e+05\n",
       "==============================================================================\n",
       "\n",
       "Warnings:\n",
       "[1] Standard Errors assume that the covariance matrix of the errors is correctly specified.\n",
       "[2] The condition number is large, 1.61e+05. This might indicate that there are\n",
       "strong multicollinearity or other numerical problems.\n",
       "\"\"\""
      ]
     },
     "execution_count": 8,
     "metadata": {},
     "output_type": "execute_result"
    }
   ],
   "source": [
    "model.summary()"
   ]
  },
  {
   "cell_type": "markdown",
   "metadata": {
    "colab_type": "text",
    "id": "Fz8biSHtDPdJ"
   },
   "source": [
    "### Plotting lower and upper confidance intervals\n",
    "[`wls_prediction_std`](https://) calculates standard deviation and confidence interval for prediction.\n",
    "\n",
    "\n",
    "\n"
   ]
  },
  {
   "cell_type": "code",
   "execution_count": 9,
   "metadata": {
    "colab": {
     "base_uri": "https://localhost:8080/",
     "height": 364
    },
    "colab_type": "code",
    "id": "iVb1JIkFCwCT",
    "outputId": "45f5809f-8411-49ae-b098-5ef5743ae763"
   },
   "outputs": [
    {
     "data": {
      "text/plain": [
       "<matplotlib.legend.Legend at 0x28ff3fb45f8>"
      ]
     },
     "execution_count": 9,
     "metadata": {},
     "output_type": "execute_result"
    },
    {
     "data": {
      "image/png": "[encoded data removed]",
      "text/plain": [
       "<Figure size 432x288 with 1 Axes>"
      ]
     },
     "metadata": {
      "needs_background": "light"
     },
     "output_type": "display_data"
    }
   ],
   "source": [
    "from statsmodels.sandbox.regression.predstd import wls_prediction_std\n",
    "_, upper,lower = wls_prediction_std(model)\n",
    "\n",
    "plt.scatter(x,y)\n",
    "plt.plot(x,ypred)\n",
    "plt.plot(x,upper,'--',label=\"Upper\") # confid. intrvl\n",
    "plt.plot(x,lower,':',label=\"lower\")\n",
    "plt.legend(loc='upper left')\n"
   ]
  },
  {
   "cell_type": "code",
   "execution_count": null,
   "metadata": {
    "colab": {},
    "colab_type": "code",
    "id": "EEA5rRYDEcR-"
   },
   "outputs": [],
   "source": []
  },
  {
   "cell_type": "code",
   "execution_count": null,
   "metadata": {},
   "outputs": [],
   "source": []
  }
 ],
 "metadata": {
  "colab": {
   "name": "Untitled4.ipynb",
   "provenance": [],
   "version": "0.3.2"
  },
  "kernelspec": {
   "display_name": "Python 3",
   "language": "python",
   "name": "python3"
  },
  "language_info": {
   "codemirror_mode": {
    "name": "ipython",
    "version": 3
   },
   "file_extension": ".py",
   "mimetype": "text/x-python",
   "name": "python",
   "nbconvert_exporter": "python",
   "pygments_lexer": "ipython3",
   "version": "3.7.3"
  }
 },
 "nbformat": 4,
 "nbformat_minor": 1
}
